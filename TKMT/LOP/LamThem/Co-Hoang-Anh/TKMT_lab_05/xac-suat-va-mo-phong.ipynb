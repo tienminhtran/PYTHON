{
 "cells": [
  {
   "cell_type": "markdown",
   "id": "78bc0e3d-7f62-42d1-9c3d-ee0adae415bb",
   "metadata": {},
   "source": [
    "# Xác Suất và Mô Phỏng"
   ]
  },
  {
   "cell_type": "code",
   "execution_count": 1,
   "id": "fb4fcc41-1c6f-46ae-96a3-ed08a4b8da6d",
   "metadata": {},
   "outputs": [],
   "source": [
    "import numpy as np\n",
    "import pandas as pd\n",
    "import matplotlib.pyplot as plt\n",
    "\n",
    "from scipy.stats import binom\n",
    "from scipy.stats import poisson\n",
    "from scipy.stats import norm"
   ]
  },
  {
   "cell_type": "markdown",
   "id": "bd6b8b5f-db2f-446d-98e1-f6917144e0d5",
   "metadata": {
    "tags": []
   },
   "source": [
    "## 1. Biến ngẫu nhiên rời rạc\n",
    "\n",
    "Giả sử X là biến ngẫu nhiên rời rạc\n",
    "\n",
    "a. Hãy cho biết ý nghĩa câu lệnh sau: `binom.pmf(4, 10, 0.6)`\n",
    "\n",
    "b. Giả sử X có phân phối nhị thức `X ~ B(10, 0.6)`. Hãy tính các giá trị sau:  \n",
    "$P(X \\leq 5), P(X \\le 5), P(X \\ge 4), P(X = 5) $\n",
    "\n",
    "c. Hãy cho biết ý nghĩa câu lệnh sau: `poisson.pmf(4, 3)`\n",
    "\n",
    "d. Giả sử X có phân phối Poisson `X ~ P(3)`. Hãy tính các giá trị sau:  \n",
    "$P(X \\leq 5), P(X \\le 5), P(X \\ge 4), P(X = 5) $"
   ]
  },
  {
   "cell_type": "code",
   "execution_count": null,
   "id": "fdc5d125-cbc1-4809-b704-7ddbf442490a",
   "metadata": {},
   "outputs": [],
   "source": []
  },
  {
   "cell_type": "markdown",
   "id": "9ca99bbf-af74-43da-8848-ba95a9ad1c4b",
   "metadata": {},
   "source": [
    "# 2. Tỷ lệ đậu\n",
    "\n",
    "Một môn học X được tổ chức mỗi học kỳ có tỷ lệ thí sinh học qua môn trung bình là 80%, và mỗi học kỳ có 250 sinh viên đăng ký dự thi. Tính giá trị kỳ vọng và độ lệch chuẩn của số lượng thí sinh không vượt qua môn học?"
   ]
  },
  {
   "cell_type": "code",
   "execution_count": null,
   "id": "3126b744-20bd-4934-ab58-a6a42f67919a",
   "metadata": {},
   "outputs": [],
   "source": []
  },
  {
   "cell_type": "markdown",
   "id": "ba8bd1c5-e6c8-46b4-b860-83d788eed4d3",
   "metadata": {},
   "source": [
    "## 3. Tổng đài\n",
    "\n",
    "Một tổng đài trung bình trong một giờ nhận được 180 cuộc gọi một cách ngẫu nhiên. Nếu trong 5 phút có từ hơn 20 cuộc gọi trở lên, thì tổng đài sẽ quá tải và người gọi đến sẽ phải chờ đợi. Giả sử số cuộc gọi nhận được trong 5 phút của tổng đài có phân phối Poisson. Tính:\n",
    "\n",
    "a. Xác suất nhận được nhiều hơn 19 cuộc gọi mỗi 5 phút.\n",
    "\n",
    "b. Trong 5 phút tổng đài có thể nhận được nhiều nhất bao nhiêu cuộc gọi để xác suất các cuộc gọi đều được xử lý ít nhất là 99%"
   ]
  },
  {
   "cell_type": "code",
   "execution_count": null,
   "id": "13dfce33-1b43-4b84-8ca0-40ab7c315f5e",
   "metadata": {},
   "outputs": [],
   "source": []
  },
  {
   "cell_type": "markdown",
   "id": "77b61c24-7ac7-42a5-9cd4-a60d7edd7b5a",
   "metadata": {},
   "source": [
    "## 4. Phân phối liên tục\n",
    "\n",
    "a. Cho biết ý nghĩa của các câu lệnh sau:\n",
    "\n",
    "- `norm.cdf(2)`\n",
    "\n",
    "- `norm.cdf(2, 1, 1)`\n",
    "\n",
    "- `norm.cdf(2, 1, 2)`\n",
    "\n",
    "b. Cho biết kết quả của câu lệnh sau: `norm.ppf(norm.cdf(2))`\n",
    "\n",
    "c. Tính các giá trị sau và vẽ hình minh họa cho các giá trị tính được:\n",
    "\n",
    "- `norm.ppf(0.975)`\n",
    "\n",
    "- `norm.ppf(0.975, 1, 1)`\n",
    "\n",
    "- `norm.ppf(0.975, 1, 2)`\n",
    "\n",
    "d. Giả sử biến ngẫu nhiên X có phân phối chuẩn với kỳ vọng là 24 và phương sai là 16. Hãy tính các giá trị sau:\n",
    "\n",
    "- $P(X \\leq 20)$\n",
    "- $P(X \\ge 29.5)$\n",
    "- $P(X = 23.8)$"
   ]
  },
  {
   "cell_type": "code",
   "execution_count": null,
   "id": "7d057112-c14b-4acc-a951-79453557192c",
   "metadata": {},
   "outputs": [],
   "source": []
  },
  {
   "cell_type": "markdown",
   "id": "36a60713-3ddc-4a18-8eb7-e69e3e9cbd14",
   "metadata": {},
   "source": [
    "## 5. Độ dài chi tiết máy\n",
    "\n",
    "Một công ty sản xuất làm ra các chi tiết máy với độ dài các chi tiết có phân phối chuẩn với kỳ vọng là 3000 mm và độ lệch chuẩn là 3 mm. Yêu cầu cho các chi tiết máy này là phải có chiều dài từ 2993 mm đến 3007 mm. Tính tỷ lệ sản phẩm lỗi của công ty"
   ]
  },
  {
   "cell_type": "code",
   "execution_count": null,
   "id": "a29b88a0-bcac-45bd-b969-c510e9954bd3",
   "metadata": {},
   "outputs": [],
   "source": []
  },
  {
   "cell_type": "markdown",
   "id": "27a0e06c-71dd-4aa5-83c1-474377ea1db1",
   "metadata": {},
   "source": [
    "## 6. Mô phỏng phân phối Chuẩn\n",
    "\n",
    "Giả sử điểm thi TOEIC là một biến ngẫu nhiên có phân phối chuẩn với kỳ vọng là 500, độ lệch chuẩn là 8. Bạn hãy:\n",
    "\n",
    "a. Mô phỏng bằng cách phát sinh ngẫu nhiên điểm thi TOIEC của một nhóm gồm 50 người.\n",
    "\n",
    "b. Tính điểm trung bình và độ lệch chuẩn về điểm của nhóm.\n",
    "\n",
    "c. Tìm miền giá trị, và miền phân vị (IQR) của nhóm\n",
    "\n",
    "d. Cho biết tỷ lệ đạt trên 450 điểm của nhóm. \n",
    "\n",
    "e. Vẽ đồ thị histogram của nhóm và so sánh với đồ thị hàm mật độ của phân phối chuẩn với kỳ vọng là 500 và độ lệch chuẩn là 8.\n",
    "\n",
    "f. Thay vì mô phỏng 50 người, hãy mô phỏng nhóm với 100 người thi. Bạn có nhận xét gì?"
   ]
  },
  {
   "cell_type": "code",
   "execution_count": null,
   "id": "78c5610a-087c-4ea6-ba34-e55e2e1d6c07",
   "metadata": {},
   "outputs": [],
   "source": []
  }
 ],
 "metadata": {
  "kernelspec": {
   "display_name": "Python 3 (ipykernel)",
   "language": "python",
   "name": "python3"
  },
  "language_info": {
   "codemirror_mode": {
    "name": "ipython",
    "version": 3
   },
   "file_extension": ".py",
   "mimetype": "text/x-python",
   "name": "python",
   "nbconvert_exporter": "python",
   "pygments_lexer": "ipython3",
   "version": "3.9.7"
  }
 },
 "nbformat": 4,
 "nbformat_minor": 5
}
