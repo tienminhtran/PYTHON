{
 "cells": [
  {
   "cell_type": "markdown",
   "metadata": {},
   "source": [
    "# Bài Tập"
   ]
  },
  {
   "cell_type": "code",
   "execution_count": 9,
   "metadata": {},
   "outputs": [],
   "source": [
    "%matplotlib inline\n",
    "import numpy as np\n",
    "import math\n",
    "import matplotlib.pyplot as plt"
   ]
  },
  {
   "cell_type": "markdown",
   "metadata": {},
   "source": [
    "### Bài 1: Tạo quần thể mô phỏng\n",
    "\n",
    "Bạn hãy tạo một mẫu gồm 10000 phần tử mô phỏng chiều cao của nam thanh niên có giá trị từ 120cm - 200cm. Bạn hãy lưu kết quả vào biến **POP**.\n",
    "\n",
    "Tính:\n",
    "a. Chiều cao trung bình (kỳ vọng) của quần thể và độ lệch chuẩn về chiều cao của quần thể.\n",
    "\n",
    "b. Tính tỷ lệ người cao trong quần thể, biết rằng thanh niên có chiều cao từ 180 trở lên được gọi là cao.\n",
    "\n",
    "c. Vẽ histogram về chiều cao của quần thể. Theo bạn quần thể có phân phối chuẩn hay không?\n",
    "\n",
    "d. Thử vẽ histogram và đồ thị hàm mật độ của phân phối chuẩn sử dụng tham số loc và scale bằng với kỳ vọng và độ lệch chuẩn của quần thể."
   ]
  },
  {
   "cell_type": "code",
   "execution_count": 10,
   "metadata": {},
   "outputs": [
    {
     "data": {
      "text/plain": [
       "array([134, 152, 199, 186, 132, 153, 163, 155, 183, 120, 154, 162, 147,\n",
       "       133, 156, 177, 175, 150, 140, 142, 136, 150, 121, 149, 156, 133,\n",
       "       165, 136, 181, 185, 120, 162, 165, 144, 142, 186, 168, 185, 123,\n",
       "       154, 170, 131, 184, 175, 125, 176, 137, 179, 149, 139, 190, 197,\n",
       "       165, 168, 144, 137, 122, 153, 124, 188, 193, 137, 181, 183, 185,\n",
       "       189, 196, 134, 163, 170, 178, 149, 154, 178, 142, 121, 189, 124,\n",
       "       190, 139, 121, 138, 173, 199, 145, 143, 158, 163, 178, 192, 193,\n",
       "       145, 133, 135, 199, 144, 182, 170, 163, 134, 159, 182, 122, 178,\n",
       "       139, 123, 144, 185, 174, 161, 126, 193, 130, 181, 176, 134, 127,\n",
       "       145, 153, 128, 159, 146, 123, 140, 166, 187, 153, 171, 145, 186,\n",
       "       198, 168, 150, 129, 148, 198, 126, 157, 150, 185, 166, 162, 171,\n",
       "       176, 174, 196, 185, 128, 177, 156, 162, 175, 186, 198, 187, 169,\n",
       "       120, 182, 169, 199, 166, 133, 151, 151, 166, 120, 196, 169, 194,\n",
       "       148, 135, 163, 188, 199, 152, 198, 126, 148, 160, 186, 193, 151,\n",
       "       131, 120, 129, 161, 120, 131, 166, 164, 192, 141, 188, 164, 163,\n",
       "       144, 149, 185, 192, 145, 200, 136, 187, 138, 176, 120, 148, 139,\n",
       "       122, 160, 168, 165, 168, 140, 130, 120, 149, 188, 121, 189, 164,\n",
       "       185, 199, 190, 189, 187, 160, 153, 163, 129, 165, 176, 193, 188,\n",
       "       171, 178, 137, 174, 177, 142, 190, 127, 196, 141, 198, 177, 167,\n",
       "       124, 120, 177, 138, 191, 185, 130, 161, 152, 178, 157, 169, 138,\n",
       "       138, 123, 151, 151, 192, 177, 157, 173, 125, 193, 176, 189, 193,\n",
       "       139, 120, 147, 196, 153, 178, 161, 161, 168, 169, 183, 157, 139,\n",
       "       135, 171, 141, 195, 139, 165, 200, 136, 191, 169, 195, 130, 129,\n",
       "       125, 192, 167, 136, 157, 162, 141, 191, 137, 171, 165, 156, 163,\n",
       "       195, 171, 132, 166, 142, 155, 181, 149, 138, 156, 147, 176, 120,\n",
       "       145, 161, 149, 142, 197, 166, 135, 120, 159, 137, 135, 145, 145,\n",
       "       138, 158, 120, 123, 145, 186, 188, 124, 188, 169, 185, 178, 139,\n",
       "       150, 157, 150, 179, 177, 171, 147, 169, 176, 170, 165, 172, 185,\n",
       "       122, 140, 150, 133, 156, 181, 136, 133, 177, 186, 134, 131, 173,\n",
       "       151, 190, 164, 185, 160, 188, 196, 158, 163, 155, 181, 121, 150,\n",
       "       159, 175, 143, 150, 121, 168, 159, 125, 192, 174, 176, 178, 140,\n",
       "       132, 149, 160, 162, 133, 156, 156, 158, 120, 196, 167, 142, 123,\n",
       "       154, 133, 168, 179, 121, 146, 135, 138, 143, 142, 120, 163, 126,\n",
       "       163, 172, 138, 134, 175, 151, 130, 192, 144, 134, 187, 198, 156,\n",
       "       195, 170, 135, 148, 128, 159, 192, 120, 130, 147, 151, 169, 141,\n",
       "       197, 134, 157, 134, 153, 166, 175, 144, 180, 152, 148, 126, 155,\n",
       "       137, 148, 162, 142, 145, 158, 163, 132, 149, 137, 200, 190, 195,\n",
       "       162, 121, 153, 189, 174, 149, 151, 147, 134, 136, 128, 190, 156,\n",
       "       135, 144, 168, 138, 169, 144, 177, 195, 151, 174, 190, 179, 133,\n",
       "       132, 171, 150, 163, 154, 168, 180, 165, 142, 192, 140, 176, 171,\n",
       "       142, 183, 177, 169, 133, 130, 176, 171, 132, 175, 125, 149, 197,\n",
       "       142, 162, 150, 195, 171, 181, 155, 121, 165, 127, 138, 192, 122,\n",
       "       188, 139, 135, 181, 157, 198, 196, 143, 139, 169, 129, 151, 199,\n",
       "       145, 200, 182, 172, 125, 145, 194, 190, 162, 135, 126, 141, 150,\n",
       "       142, 140, 179, 148, 146, 191, 121, 179, 124, 167, 166, 186, 132,\n",
       "       199, 147, 142, 122, 176, 159, 192, 176, 135, 163, 171, 141, 156,\n",
       "       192, 122, 180, 174, 174, 120, 189, 184, 156, 141, 139, 182, 125,\n",
       "       151, 190, 200, 178, 191, 157, 166, 199, 186, 187, 195, 185, 196,\n",
       "       138, 190, 164, 156, 177, 141, 138, 142, 143, 133, 164, 194, 180,\n",
       "       133, 193, 141, 146, 178, 190, 198, 144, 144, 155, 185, 166, 129,\n",
       "       122, 192, 129, 188, 171, 154, 185, 151, 158, 121, 176, 126, 130,\n",
       "       178, 149, 155, 160, 169, 185, 194, 194, 177, 158, 123, 190, 142,\n",
       "       160, 187, 127, 176, 199, 135, 127, 122, 182, 198, 128, 185, 196,\n",
       "       149, 144, 170, 185, 174, 141, 181, 138, 176, 173, 182, 160, 166,\n",
       "       158, 134, 126, 179, 144, 126, 172, 187, 147, 193, 198, 143, 164,\n",
       "       175, 166, 200, 147, 149, 121, 130, 128, 133, 141, 128, 127, 166,\n",
       "       178, 122, 172, 121, 157, 130, 148, 142, 154, 151, 162, 135, 188,\n",
       "       191, 133, 184, 137, 148, 191, 183, 144, 182, 147, 183, 160, 134,\n",
       "       160, 151, 139, 146, 152, 191, 150, 173, 157, 154, 134, 138, 186,\n",
       "       143, 156, 166, 182, 172, 176, 130, 197, 184, 148, 126, 193, 182,\n",
       "       190, 187, 164, 163, 169, 162, 152, 180, 124, 132, 162, 138, 195,\n",
       "       128, 174, 120, 189, 153, 157, 177, 190, 171, 123, 126, 133, 145,\n",
       "       198, 179, 194, 168, 130, 139, 178, 191, 199, 155, 196, 188, 139,\n",
       "       149, 134, 128, 196, 193, 130, 138, 164, 149, 190, 124, 165, 143,\n",
       "       178, 179, 129, 152, 179, 190, 160, 189, 143, 174, 189, 174, 136,\n",
       "       139, 171, 164, 197, 165, 168, 195, 126, 126, 170, 177, 130, 179,\n",
       "       130, 166, 158, 121, 198, 196, 188, 194, 150, 149, 199, 150, 198,\n",
       "       185, 128, 173, 131, 170, 136, 197, 168, 165, 124, 142, 166, 135,\n",
       "       136, 132, 199, 136, 135, 194, 194, 151, 171, 169, 126, 164, 173,\n",
       "       134, 168, 192, 133, 155, 194, 143, 191, 133, 161, 153, 121, 193,\n",
       "       162, 139, 189, 152, 131, 154, 182, 150, 153, 140, 161, 155, 143,\n",
       "       122, 178, 168, 154, 145, 159, 194, 147, 186, 172, 157, 167, 142,\n",
       "       183, 191, 133, 200, 149, 187, 164, 158, 161, 178, 138, 195, 185,\n",
       "       127, 130, 177, 175, 132, 159, 124, 160, 197, 131, 157, 126, 132,\n",
       "       163, 159, 161, 172, 125, 122, 133, 125, 152, 154, 135, 168, 138,\n",
       "       177, 150, 152, 174, 166, 188, 144, 152, 183, 169, 141, 170, 188,\n",
       "       133, 133, 200, 155, 174, 135, 188, 160, 178, 126, 157, 160])"
      ]
     },
     "execution_count": 10,
     "metadata": {},
     "output_type": "execute_result"
    }
   ],
   "source": [
    "pop = np.random.randint(120, 201, 1000)\n",
    "pop"
   ]
  },
  {
   "cell_type": "code",
   "execution_count": null,
   "metadata": {},
   "outputs": [],
   "source": []
  },
  {
   "cell_type": "code",
   "execution_count": 31,
   "metadata": {},
   "outputs": [
    {
     "name": "stdout",
     "output_type": "stream",
     "text": [
      "Chiều cao trung bình của Quần Thể :  159.351\n",
      "Tỉ lệ người cao: 0.231\n"
     ]
    }
   ],
   "source": [
    "mean_pop = pop.mean()\n",
    "print('Chiều cao trung bình của Quần Thể : ', mean_pop)\n",
    "tall = pop[pop>180]\n",
    "mean_pop_tall = tall.mean()\n",
    "print('Tỉ lệ người cao:',tall.size/pop.size)                          "
   ]
  },
  {
   "cell_type": "code",
   "execution_count": 28,
   "metadata": {},
   "outputs": [
    {
     "name": "stdout",
     "output_type": "stream",
     "text": [
      "Do lech chuan cua quan the: 23.08249984295462\n"
     ]
    }
   ],
   "source": [
    "dlc_pop = pop.std()\n",
    "print('Do lech chuan cua quan the:',  dlc_pop  )"
   ]
  },
  {
   "cell_type": "code",
   "execution_count": 25,
   "metadata": {},
   "outputs": [
    {
     "data": {
      "image/png": "[encoded data removed]",
      "text/plain": [
       "<Figure size 432x288 with 1 Axes>"
      ]
     },
     "metadata": {
      "needs_background": "light"
     },
     "output_type": "display_data"
    }
   ],
   "source": [
    "plt.hist(pop, bins= 100)\n",
    "plt.show()"
   ]
  },
  {
   "cell_type": "code",
   "execution_count": 27,
   "metadata": {},
   "outputs": [
    {
     "data": {
      "image/png": "[encoded data removed]",
      "text/plain": [
       "<Figure size 432x288 with 1 Axes>"
      ]
     },
     "metadata": {
      "needs_background": "light"
     },
     "output_type": "display_data"
    }
   ],
   "source": [
    "plt.hist(tall)\n",
    "plt.show()"
   ]
  },
  {
   "cell_type": "code",
   "execution_count": 33,
   "metadata": {},
   "outputs": [],
   "source": [
    "from scipy.stats import binom\n",
    "from scipy.stats import poisson\n",
    "from scipy.stats import norm\n",
    "from scipy.stats import t"
   ]
  },
  {
   "cell_type": "code",
   "execution_count": 60,
   "metadata": {},
   "outputs": [
    {
     "data": {
      "image/png": "[encoded data removed]",
      "text/plain": [
       "<Figure size 432x288 with 1 Axes>"
      ]
     },
     "metadata": {
      "needs_background": "light"
     },
     "output_type": "display_data"
    }
   ],
   "source": [
    "\n",
    "# Vẽ histogram và đồ thị hàm mật độ của phân phối chuẩn sử dụng tham số loc và scale bằng với kỳ vọng và độ lệch chuẩn của quần thể.\n",
    "#  ham mat do cua phan phoi chuan: pdf\n",
    "#  loc: kỳ vọng\n",
    "#  scale: độ lệch chuẩn\n",
    "\n",
    "\n",
    "#  ham rvs sinh ngẫu nhiên 10000 mẫu\n",
    "\n",
    "# linspace lay ngau nhien 100 diem trong khoang từ mean_pop - 4*dlc_pop đến mean_pop + 4*dlc_pop. cong thuc linspace: \n",
    "# linspace(start, stop, num=50, endpoint=True, retstep=False, dtype=None, axis=0)\n",
    "# start: phần tử đầu tiên của mảng\n",
    "# stop: phần tử cuối cùng của mảng\n",
    "# num: số lượng mẫu cần tạo ra\n",
    "x = np.linspace(mean_pop - 4*dlc_pop, mean_pop + 4*dlc_pop, 100) # theo ly thuyet \n",
    "y = norm.pdf(x, loc=mean_pop, scale=dlc_pop)\n",
    "plt.plot(x, y)\n",
    "plt.show()"
   ]
  },
  {
   "cell_type": "markdown",
   "metadata": {},
   "source": [
    "### Bài 2: Lấy mẫu cỡ 20\n",
    "\n",
    "Bạn hãy lấy một mẫu kích thước 20 phần từ. Tính:\n",
    "\n",
    "a. Trung bình mẫu, và độ lệch chuẩn của mẫu\n",
    "\n",
    "b. Tỷ lệ người cao của mẫu\n",
    "\n",
    "c. Vẽ histogram của mẫu\n",
    "\n",
    "d. Thử vẽ đồ thị hàm mật độ của phân phối chuẩn với tham số loc và scale bằng với giá trị trung bình và độ lệch chuẩn và chiều cao của mẫu. Bạn có nhận xét gì không?"
   ]
  },
  {
   "cell_type": "code",
   "execution_count": 61,
   "metadata": {},
   "outputs": [
    {
     "data": {
      "text/plain": [
       "array([141, 157, 188, 168, 176, 135, 190, 176, 167, 143, 139, 194, 168,\n",
       "       133, 123, 143, 122, 120, 162, 136])"
      ]
     },
     "execution_count": 61,
     "metadata": {},
     "output_type": "execute_result"
    }
   ],
   "source": [
    "sample = np.random.choice(pop, 20)\n",
    "sample"
   ]
  },
  {
   "cell_type": "code",
   "execution_count": 62,
   "metadata": {},
   "outputs": [
    {
     "name": "stdout",
     "output_type": "stream",
     "text": [
      "Chiều cao trung bình của mẫu :  154.05\n",
      "Do lech chuan cua mẫu: 22.97493199119423\n"
     ]
    }
   ],
   "source": [
    "mean_sample = sample.mean()\n",
    "print('Chiều cao trung bình của mẫu : ', mean_sample)\n",
    "\n",
    "dlc_sample = sample.std()\n",
    "print('Do lech chuan cua mẫu:',  dlc_sample  )"
   ]
  },
  {
   "cell_type": "code",
   "execution_count": 63,
   "metadata": {},
   "outputs": [
    {
     "name": "stdout",
     "output_type": "stream",
     "text": [
      "Tỉ lệ người cao trong mẫu: 0.15\n",
      "0.15\n"
     ]
    }
   ],
   "source": [
    "tall_sample = sample[sample>180]\n",
    "#  cach 1\n",
    "print('Tỉ lệ người cao trong mẫu:',tall_sample.size/sample.size)\n",
    "# cach 2\n",
    "print(tall_sample.shape[0]/sample.shape[0])"
   ]
  },
  {
   "cell_type": "markdown",
   "metadata": {},
   "source": [
    "### Bài 3: Lấy mẫu cỡ 100\n",
    "\n",
    "Lặp lại thí nghiệm bài 2 với cỡ mẫu là 100"
   ]
  },
  {
   "cell_type": "code",
   "execution_count": 64,
   "metadata": {},
   "outputs": [
    {
     "data": {
      "text/plain": [
       "array([165, 185, 160, 139, 169, 150, 144, 135, 162, 139, 189, 133, 189,\n",
       "       132, 173, 192, 132, 172, 120, 171, 139, 181, 139, 171, 154, 148,\n",
       "       193, 153, 188, 182, 190, 168, 196, 193, 185, 120, 142, 143, 175,\n",
       "       169, 136, 135, 132, 168, 189, 145, 158, 140, 126, 134, 164, 122,\n",
       "       133, 151, 171, 165, 199, 178, 158, 139, 154, 185, 154, 157, 185,\n",
       "       192, 162, 148, 121, 132, 122, 157, 176, 165, 127, 182, 146, 166,\n",
       "       182, 148, 133, 173, 189, 179, 142, 163, 186, 167, 149, 176, 193,\n",
       "       199, 139, 169, 140, 156, 150, 135, 141, 178])"
      ]
     },
     "execution_count": 64,
     "metadata": {},
     "output_type": "execute_result"
    }
   ],
   "source": [
    "sample = np.random.choice(pop, 100)\n",
    "sample"
   ]
  },
  {
   "cell_type": "code",
   "execution_count": 65,
   "metadata": {},
   "outputs": [
    {
     "name": "stdout",
     "output_type": "stream",
     "text": [
      "Chiều cao trung bình của mẫu :  159.41\n",
      "Do lech chuan cua mẫu: 21.828465360624875\n"
     ]
    }
   ],
   "source": [
    "mean_sample = sample.mean()\n",
    "print('Chiều cao trung bình của mẫu : ', mean_sample)\n",
    "\n",
    "dlc_sample = sample.std()\n",
    "print('Do lech chuan cua mẫu:',  dlc_sample  )"
   ]
  },
  {
   "cell_type": "code",
   "execution_count": 66,
   "metadata": {},
   "outputs": [
    {
     "name": "stdout",
     "output_type": "stream",
     "text": [
      "Tỉ lệ người cao trong mẫu: 0.23\n",
      "0.23\n"
     ]
    }
   ],
   "source": [
    "tall_sample = sample[sample>180]\n",
    "#  cach 1\n",
    "print('Tỉ lệ người cao trong mẫu:',tall_sample.size/sample.size)\n",
    "# cach 2\n",
    "print(tall_sample.shape[0]/sample.shape[0])"
   ]
  },
  {
   "cell_type": "markdown",
   "metadata": {},
   "source": [
    "### Bài 4: Khảo sát phân phối của trung bình mẫu\n",
    "\n",
    "a. Thực hiện bài 2 100 lần, mỗi lần bạn tính được trung bình mẫu. Vẽ đồ thị histogram cho 100 trung bình mẫu bạn tính được.\n",
    "\n",
    "b. Thực hiện bài 3 100 lần, mỗi lần bạn tính được trung bình mẫu. Vẽ đồ thị histogram cho 100 trung bình mẫu bạn tính được.\n",
    "\n",
    "c. Vẽ histogram của hai câu a, b trong cùng một hình để so sánh. Theo bạn hình dạng của histogram thay đổi nói lên điều gì?\n",
    "\n",
    "Gợi ý: tạo một danh sách rỗng để chứa các trung bình mẫu tính được, sử dụng hàm append() để thêm giá trị trung bình vào danh sách sau mỗi lần tính."
   ]
  },
  {
   "cell_type": "code",
   "execution_count": 70,
   "metadata": {},
   "outputs": [
    {
     "data": {
      "image/png": "[encoded data removed]",
      "text/plain": [
       "<Figure size 432x288 with 1 Axes>"
      ]
     },
     "metadata": {
      "needs_background": "light"
     },
     "output_type": "display_data"
    }
   ],
   "source": [
    "arrarr_trungbinh_20 = []\n",
    "for i in range(100):\n",
    "    sample = np.random.choice(pop, 20)\n",
    "    arrarr_trungbinh_20.append(sample.mean())\n",
    "plt.hist(arrarr_trungbinh_20, bins= 100)\n",
    "plt.show()"
   ]
  },
  {
   "cell_type": "code",
   "execution_count": 69,
   "metadata": {},
   "outputs": [
    {
     "data": {
      "image/png": "[encoded data removed]",
      "text/plain": [
       "<Figure size 432x288 with 1 Axes>"
      ]
     },
     "metadata": {
      "needs_background": "light"
     },
     "output_type": "display_data"
    }
   ],
   "source": [
    "arrarr_trungbinh_100 = []\n",
    "for i in range(100):\n",
    "    sample = np.random.choice(pop, 100)\n",
    "    arrarr_trungbinh_100.append(sample.mean())\n",
    "plt.hist(arrarr_trungbinh_100, bins= 100)\n",
    "plt.show()"
   ]
  },
  {
   "cell_type": "code",
   "execution_count": 72,
   "metadata": {},
   "outputs": [
    {
     "name": "stderr",
     "output_type": "stream",
     "text": [
      "No handles with labels found to put in legend.\n"
     ]
    },
    {
     "data": {
      "text/plain": [
       "<matplotlib.legend.Legend at 0x2ad8baa0610>"
      ]
     },
     "execution_count": 72,
     "metadata": {},
     "output_type": "execute_result"
    },
    {
     "data": {
      "image/png": "[encoded data removed]",
      "text/plain": [
       "<Figure size 432x288 with 1 Axes>"
      ]
     },
     "metadata": {
      "needs_background": "light"
     },
     "output_type": "display_data"
    }
   ],
   "source": [
    "plt.hist(arrarr_trungbinh_20, bins= 100)\n",
    "plt.hist(arrarr_trungbinh_100, bins= 100)\n",
    "plt.legend()\n"
   ]
  },
  {
   "cell_type": "markdown",
   "metadata": {},
   "source": [
    "### Bài 5: Khảo sát tỷ lệ mẫu\n",
    "\n",
    "a. Bạn hãy mô phỏng 1000 lần lấy mẫu có kích cỡ 100. Vẽ histogram tỷ lệ người cao của các mẫu\n",
    "\n",
    "b. Bạn hãy mô phỏng 1000 lần lấy mẫu có kích cỡ 500. Vẽ histogram tỷ lệ người cao của các mẫu"
   ]
  },
  {
   "cell_type": "code",
   "execution_count": null,
   "metadata": {},
   "outputs": [],
   "source": []
  },
  {
   "cell_type": "markdown",
   "metadata": {},
   "source": [
    "### Bài 6: Khảo sát phương sai mẫu\n",
    "\n",
    "Bạn hãy mô phỏng 1000 lần lấy mẫu có kích cỡ 100. Vẽ histogram đại lượng phương sai của các mẫu (Phương sai bằng bình phương độ lệch chuẩn)"
   ]
  },
  {
   "cell_type": "code",
   "execution_count": null,
   "metadata": {},
   "outputs": [],
   "source": []
  },
  {
   "cell_type": "markdown",
   "metadata": {},
   "source": [
    "### Bài 7:  Bài Tập Ước Lượng \n",
    "\n",
    "Khảo sát cân nặng (kg) của gà khi xuất chuồng, người ta cân một số con và có kết quả như sau:\n",
    "\n",
    "> 2.1, 1.8, 2.0, 2.3, 1.7, 1.5, 2.0, 2.2, 1.8\n",
    "\n",
    "Giả sử cân nặng của gà là biến ngẫu nhiên có phân phối chuẩn. Hãy lập khoảng tin cậy cho cân nặng trung bình của  khi xuất chuồng với độ tin cậy là 95%. Trong 2 trường hợp:\n",
    "\n",
    "a, Biết $\\sigma = 0.3$\n",
    "\n",
    "b, Không biết $\\sigma$\n"
   ]
  },
  {
   "cell_type": "code",
   "execution_count": null,
   "metadata": {},
   "outputs": [],
   "source": []
  }
 ],
 "metadata": {
  "kernelspec": {
   "display_name": "Python 3",
   "language": "python",
   "name": "python3"
  },
  "language_info": {
   "codemirror_mode": {
    "name": "ipython",
    "version": 3
   },
   "file_extension": ".py",
   "mimetype": "text/x-python",
   "name": "python",
   "nbconvert_exporter": "python",
   "pygments_lexer": "ipython3",
   "version": "3.12.1"
  }
 },
 "nbformat": 4,
 "nbformat_minor": 4
}
