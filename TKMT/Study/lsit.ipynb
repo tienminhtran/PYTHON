{
 "cells": [
  {
   "cell_type": "code",
   "execution_count": 1,
   "metadata": {},
   "outputs": [
    {
     "name": "stdout",
     "output_type": "stream",
     "text": [
      "c++\n"
     ]
    }
   ],
   "source": [
    "list1 = ['java', 'python', 'php', 'c++']\n",
    "print(list1[-1])"
   ]
  },
  {
   "cell_type": "code",
   "execution_count": 8,
   "metadata": {},
   "outputs": [
    {
     "name": "stdout",
     "output_type": "stream",
     "text": [
      "['banana', 'guava', 'orange']\n",
      "['mango', 'melon', 'kiwi', 'orange', 'guava', 'banana', 'apple']\n",
      "['apple', 'banana', 'guava', 'orange', 'kiwi', 'melon', 'mango', 'grape']\n",
      "['apple', 'banana', 'pineapple', 'guava', 'orange', 'kiwi', 'melon', 'mango', 'grape']\n",
      "['banana', 'pineapple', 'guava', 'orange', 'kiwi', 'melon', 'mango', 'grape']\n",
      "['pineapple', 'guava', 'orange', 'kiwi', 'melon', 'mango', 'grape']\n"
     ]
    }
   ],
   "source": [
    "fruits = [\"apple\", \"banana\", \"guava\", \"orange\", \"kiwi\", \"melon\", \"mango\"]\n",
    "print(fruits[1:4])\n",
    "print(fruits[::-1])\n",
    "# thêm phần tử vào list\n",
    "fruits.append(\"grape\")\n",
    "print(fruits)\n",
    "# thêm phần tử vào vị trí bất kỳ\n",
    "fruits.insert(2, \"pineapple\")\n",
    "print(fruits)\n",
    "# xóa phần tử trong list\n",
    "fruits.remove(\"apple\")\n",
    "print(fruits)\n",
    "# xóa phần tử theo vị trí\n",
    "del fruits[0]\n",
    "print(fruits)"
   ]
  },
  {
   "cell_type": "code",
   "execution_count": 28,
   "metadata": {},
   "outputs": [
    {
     "name": "stdout",
     "output_type": "stream",
     "text": [
      "Bi thay doi theo list ban dau:  ['apple', 'banana', 'guava', 'kiwi']\n",
      "Khong bi thay doi theo list ban dau: ['apple', 'banana', 'guava']\n",
      "Đảo ngược list:  ['kiwi', 'guava', 'banana', 'apple']\n",
      "['apple', 'banana', 'guava', 'orange', 'kiwi', 'melon', 'mango']\n"
     ]
    }
   ],
   "source": [
    "fruits = [\"apple\", \"banana\", \"guava\"];\n",
    "listCopy1 = fruits;\n",
    "listCopy2 = fruits.copy();\n",
    "fruits.append(\"kiwi\"); # thay doi list ban dau\n",
    "print(\"Bi thay doi theo list ban dau: \", listCopy1);\n",
    "print(\"Khong bi thay doi theo list ban dau:\", listCopy2);\n",
    "print(\"Đảo ngược list: \", fruits[::-1])\n",
    "\n",
    "\n",
    "fruits = list((\"apple\", \"banana\", \"guava\", \"orange\", \"kiwi\", \"melon\", \"mango\"));\n",
    "print(fruits);"
   ]
  }
 ],
 "metadata": {
  "kernelspec": {
   "display_name": "Python 3",
   "language": "python",
   "name": "python3"
  },
  "language_info": {
   "codemirror_mode": {
    "name": "ipython",
    "version": 3
   },
   "file_extension": ".py",
   "mimetype": "text/x-python",
   "name": "python",
   "nbconvert_exporter": "python",
   "pygments_lexer": "ipython3",
   "version": "3.10.8"
  }
 },
 "nbformat": 4,
 "nbformat_minor": 2
}
