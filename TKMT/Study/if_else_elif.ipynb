{
 "cells": [
  {
   "cell_type": "code",
   "execution_count": 1,
   "metadata": {},
   "outputs": [
    {
     "name": "stdout",
     "output_type": "stream",
     "text": [
      "OK\n"
     ]
    }
   ],
   "source": [
    "age = 20;\n",
    "if age >= 18:\n",
    "    print(\"OK\")\n",
    "else:\n",
    "    print(\"NO\")"
   ]
  },
  {
   "cell_type": "code",
   "execution_count": 5,
   "metadata": {},
   "outputs": [
    {
     "name": "stdout",
     "output_type": "stream",
     "text": [
      "Chẵn\n"
     ]
    }
   ],
   "source": [
    "n =int(input(\"Please input\"))\n",
    "if(n%2==0):\n",
    "    print(\"Chẵn\")\n",
    "else:\n",
    "    print(\"lẻ\")"
   ]
  },
  {
   "cell_type": "code",
   "execution_count": 7,
   "metadata": {},
   "outputs": [
    {
     "name": "stdout",
     "output_type": "stream",
     "text": [
      "D\n"
     ]
    }
   ],
   "source": [
    "n=float(input(\"Please input\"))\n",
    "if(n> 80):\n",
    "    print(\"A\")\n",
    "elif(n>=70):\n",
    "    print(\"B\")\n",
    "elif(n>=60):\n",
    "    print(\"C\")\n",
    "else:\n",
    "    print(\"D\")"
   ]
  }
 ],
 "metadata": {
  "kernelspec": {
   "display_name": "Python 3",
   "language": "python",
   "name": "python3"
  },
  "language_info": {
   "codemirror_mode": {
    "name": "ipython",
    "version": 3
   },
   "file_extension": ".py",
   "mimetype": "text/x-python",
   "name": "python",
   "nbconvert_exporter": "python",
   "pygments_lexer": "ipython3",
   "version": "3.10.8"
  }
 },
 "nbformat": 4,
 "nbformat_minor": 2
}
