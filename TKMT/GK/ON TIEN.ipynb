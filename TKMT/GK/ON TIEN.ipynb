{
 "cells": [
  {
   "cell_type": "code",
   "execution_count": 1,
   "metadata": {},
   "outputs": [],
   "source": [
    "import numpy as np\n",
    "import pandas as pd\n",
    "import matplotlib.pyplot as plt\n",
    "import seaborn as sns\n",
    "\n",
    "from scipy.stats import binom"
   ]
  },
  {
   "cell_type": "markdown",
   "metadata": {},
   "source": [
    "1. Đọc dữ liệu và hiển thị 10 dòng đầu tiên"
   ]
  },
  {
   "cell_type": "code",
   "execution_count": 2,
   "metadata": {},
   "outputs": [
    {
     "data": {
      "text/html": [
       "<div>\n",
       "<style scoped>\n",
       "    .dataframe tbody tr th:only-of-type {\n",
       "        vertical-align: middle;\n",
       "    }\n",
       "\n",
       "    .dataframe tbody tr th {\n",
       "        vertical-align: top;\n",
       "    }\n",
       "\n",
       "    .dataframe thead th {\n",
       "        text-align: right;\n",
       "    }\n",
       "</style>\n",
       "<table border=\"1\" class=\"dataframe\">\n",
       "  <thead>\n",
       "    <tr style=\"text-align: right;\">\n",
       "      <th></th>\n",
       "      <th>time</th>\n",
       "      <th>title</th>\n",
       "      <th>poster_temp</th>\n",
       "      <th>area_temp</th>\n",
       "      <th>final_price</th>\n",
       "      <th>type</th>\n",
       "      <th>acreage</th>\n",
       "    </tr>\n",
       "  </thead>\n",
       "  <tbody>\n",
       "    <tr>\n",
       "      <th>0</th>\n",
       "      <td>2020-06-07</td>\n",
       "      <td>Bán nhà tại p.Phạm Ngũ Lão, Quận 1, 25m2, 4.2 TỶ</td>\n",
       "      <td>môi giới</td>\n",
       "      <td>tp hồ chí minh</td>\n",
       "      <td>4.200000e+09</td>\n",
       "      <td>nhà</td>\n",
       "      <td>25.00</td>\n",
       "    </tr>\n",
       "    <tr>\n",
       "      <th>1</th>\n",
       "      <td>2020-08-07</td>\n",
       "      <td>Chung cư Opal Boulevard 95.49m² 3PN</td>\n",
       "      <td>môi giới</td>\n",
       "      <td>tp hồ chí minh</td>\n",
       "      <td>3.308559e+09</td>\n",
       "      <td>chung cư</td>\n",
       "      <td>95.49</td>\n",
       "    </tr>\n",
       "    <tr>\n",
       "      <th>2</th>\n",
       "      <td>2020-05-07</td>\n",
       "      <td>Bán nhà Phú Lãm. 34m*4T. tặng 3 điều hòa, 1,62 tỷ</td>\n",
       "      <td>môi giới</td>\n",
       "      <td>hà nội</td>\n",
       "      <td>1.620000e+09</td>\n",
       "      <td>nhà</td>\n",
       "      <td>34.00</td>\n",
       "    </tr>\n",
       "    <tr>\n",
       "      <th>3</th>\n",
       "      <td>2020-07-07</td>\n",
       "      <td>Nhà trệt lầu . Hùynh thúc kháng</td>\n",
       "      <td>môi giới</td>\n",
       "      <td>cần thơ</td>\n",
       "      <td>1.840000e+09</td>\n",
       "      <td>nhà</td>\n",
       "      <td>-1.00</td>\n",
       "    </tr>\n",
       "    <tr>\n",
       "      <th>4</th>\n",
       "      <td>2020-06-07</td>\n",
       "      <td>Đất Lê Văn Lương, 85m2, Sổ riêng, Hẻm xe hơi, ...</td>\n",
       "      <td>môi giới</td>\n",
       "      <td>tp hồ chí minh</td>\n",
       "      <td>2.250000e+09</td>\n",
       "      <td>đất</td>\n",
       "      <td>85.00</td>\n",
       "    </tr>\n",
       "    <tr>\n",
       "      <th>5</th>\n",
       "      <td>2020-04-07</td>\n",
       "      <td>Bán nhà Huyện Hóc Môn 34m²</td>\n",
       "      <td>khác</td>\n",
       "      <td>tp hồ chí minh</td>\n",
       "      <td>2.200000e+09</td>\n",
       "      <td>nhà</td>\n",
       "      <td>34.00</td>\n",
       "    </tr>\n",
       "    <tr>\n",
       "      <th>6</th>\n",
       "      <td>2020-06-07</td>\n",
       "      <td>Nhà 1 lửng 2PN đất 63m2 cực đẹp ĐS 17 Linh Trung</td>\n",
       "      <td>khác</td>\n",
       "      <td>tp hồ chí minh</td>\n",
       "      <td>3.350000e+09</td>\n",
       "      <td>nhà</td>\n",
       "      <td>63.00</td>\n",
       "    </tr>\n",
       "    <tr>\n",
       "      <th>7</th>\n",
       "      <td>2020-05-07</td>\n",
       "      <td>Đất mặt tiền Phú Nông - Vĩnh Ngọc hàng hiếm</td>\n",
       "      <td>môi giới</td>\n",
       "      <td>khánh hòa</td>\n",
       "      <td>2.073000e+09</td>\n",
       "      <td>đất</td>\n",
       "      <td>-1.00</td>\n",
       "    </tr>\n",
       "    <tr>\n",
       "      <th>8</th>\n",
       "      <td>2020-03-07</td>\n",
       "      <td>Nhà 1 trệt 1 lầu đường 44 - kdc 586 - cái răng</td>\n",
       "      <td>môi giới</td>\n",
       "      <td>cần thơ</td>\n",
       "      <td>2.350000e+09</td>\n",
       "      <td>nhà</td>\n",
       "      <td>-1.00</td>\n",
       "    </tr>\n",
       "    <tr>\n",
       "      <th>9</th>\n",
       "      <td>2020-08-07</td>\n",
       "      <td>Nhà lửng trục chính An Gia</td>\n",
       "      <td>môi giới</td>\n",
       "      <td>cần thơ</td>\n",
       "      <td>1.100000e+09</td>\n",
       "      <td>nhà</td>\n",
       "      <td>-1.00</td>\n",
       "    </tr>\n",
       "  </tbody>\n",
       "</table>\n",
       "</div>"
      ],
      "text/plain": [
       "         time                                              title poster_temp  \\\n",
       "0  2020-06-07   Bán nhà tại p.Phạm Ngũ Lão, Quận 1, 25m2, 4.2 TỶ    môi giới   \n",
       "1  2020-08-07                Chung cư Opal Boulevard 95.49m² 3PN    môi giới   \n",
       "2  2020-05-07  Bán nhà Phú Lãm. 34m*4T. tặng 3 điều hòa, 1,62 tỷ    môi giới   \n",
       "3  2020-07-07                    Nhà trệt lầu . Hùynh thúc kháng    môi giới   \n",
       "4  2020-06-07  Đất Lê Văn Lương, 85m2, Sổ riêng, Hẻm xe hơi, ...    môi giới   \n",
       "5  2020-04-07                         Bán nhà Huyện Hóc Môn 34m²        khác   \n",
       "6  2020-06-07   Nhà 1 lửng 2PN đất 63m2 cực đẹp ĐS 17 Linh Trung        khác   \n",
       "7  2020-05-07        Đất mặt tiền Phú Nông - Vĩnh Ngọc hàng hiếm    môi giới   \n",
       "8  2020-03-07     Nhà 1 trệt 1 lầu đường 44 - kdc 586 - cái răng    môi giới   \n",
       "9  2020-08-07                         Nhà lửng trục chính An Gia    môi giới   \n",
       "\n",
       "        area_temp   final_price      type  acreage  \n",
       "0  tp hồ chí minh  4.200000e+09       nhà    25.00  \n",
       "1  tp hồ chí minh  3.308559e+09  chung cư    95.49  \n",
       "2          hà nội  1.620000e+09       nhà    34.00  \n",
       "3         cần thơ  1.840000e+09       nhà    -1.00  \n",
       "4  tp hồ chí minh  2.250000e+09       đất    85.00  \n",
       "5  tp hồ chí minh  2.200000e+09       nhà    34.00  \n",
       "6  tp hồ chí minh  3.350000e+09       nhà    63.00  \n",
       "7       khánh hòa  2.073000e+09       đất    -1.00  \n",
       "8         cần thơ  2.350000e+09       nhà    -1.00  \n",
       "9         cần thơ  1.100000e+09       nhà    -1.00  "
      ]
     },
     "execution_count": 2,
     "metadata": {},
     "output_type": "execute_result"
    }
   ],
   "source": [
    "df = pd.read_csv('bds.csv')\n",
    "df.head(10)"
   ]
  },
  {
   "cell_type": "markdown",
   "metadata": {},
   "source": [
    "2. Tìm hiểu thông tin về dữ liệu"
   ]
  },
  {
   "cell_type": "markdown",
   "metadata": {},
   "source": [
    "a, Số lượng mỗi loại (type) bất động sản có trong dữ liệu"
   ]
  },
  {
   "cell_type": "code",
   "execution_count": 3,
   "metadata": {},
   "outputs": [
    {
     "data": {
      "text/plain": [
       "type\n",
       "nhà         147416\n",
       "khác         63968\n",
       "đất          61352\n",
       "chung cư      9909\n",
       "Name: count, dtype: int64"
      ]
     },
     "execution_count": 3,
     "metadata": {},
     "output_type": "execute_result"
    }
   ],
   "source": [
    "\n",
    "df.value_counts('type')"
   ]
  },
  {
   "cell_type": "markdown",
   "metadata": {},
   "source": [
    "b,\n",
    "\n",
    "i, Số lượng bất động sản của mỗi loại theo từng cách rao bán"
   ]
  },
  {
   "cell_type": "code",
   "execution_count": 7,
   "metadata": {},
   "outputs": [
    {
     "data": {
      "text/html": [
       "<div>\n",
       "<style scoped>\n",
       "    .dataframe tbody tr th:only-of-type {\n",
       "        vertical-align: middle;\n",
       "    }\n",
       "\n",
       "    .dataframe tbody tr th {\n",
       "        vertical-align: top;\n",
       "    }\n",
       "\n",
       "    .dataframe thead th {\n",
       "        text-align: right;\n",
       "    }\n",
       "</style>\n",
       "<table border=\"1\" class=\"dataframe\">\n",
       "  <thead>\n",
       "    <tr style=\"text-align: right;\">\n",
       "      <th>poster_temp</th>\n",
       "      <th>khác</th>\n",
       "      <th>môi giới</th>\n",
       "    </tr>\n",
       "    <tr>\n",
       "      <th>type</th>\n",
       "      <th></th>\n",
       "      <th></th>\n",
       "    </tr>\n",
       "  </thead>\n",
       "  <tbody>\n",
       "    <tr>\n",
       "      <th>chung cư</th>\n",
       "      <td>2903</td>\n",
       "      <td>7006</td>\n",
       "    </tr>\n",
       "    <tr>\n",
       "      <th>khác</th>\n",
       "      <td>11024</td>\n",
       "      <td>52944</td>\n",
       "    </tr>\n",
       "    <tr>\n",
       "      <th>nhà</th>\n",
       "      <td>30096</td>\n",
       "      <td>117320</td>\n",
       "    </tr>\n",
       "    <tr>\n",
       "      <th>đất</th>\n",
       "      <td>14914</td>\n",
       "      <td>46438</td>\n",
       "    </tr>\n",
       "  </tbody>\n",
       "</table>\n",
       "</div>"
      ],
      "text/plain": [
       "poster_temp   khác  môi giới\n",
       "type                        \n",
       "chung cư      2903      7006\n",
       "khác         11024     52944\n",
       "nhà          30096    117320\n",
       "đất          14914     46438"
      ]
     },
     "execution_count": 7,
     "metadata": {},
     "output_type": "execute_result"
    }
   ],
   "source": [
    "df.groupby(['type','poster_temp']).size().unstack(fill_value=0)\n"
   ]
  },
  {
   "cell_type": "markdown",
   "metadata": {},
   "source": [
    "b,\n",
    "\n",
    "ii, Biểu đồ hình tròn thể hiện phần trăm của từng loại bất động sản theo từng phương thức rao bán"
   ]
  },
  {
   "cell_type": "code",
   "execution_count": null,
   "metadata": {},
   "outputs": [],
   "source": []
  },
  {
   "cell_type": "markdown",
   "metadata": {},
   "source": [
    "Nhận xét: \n",
    "\n"
   ]
  },
  {
   "cell_type": "markdown",
   "metadata": {},
   "source": [
    "c.\n",
    " \n",
    "i. Tạo bảng dữ liệu mới chỉ có 3 vùng(tp.hcm, hà nội, đà nẵng)"
   ]
  },
  {
   "cell_type": "code",
   "execution_count": null,
   "metadata": {},
   "outputs": [],
   "source": [
    "\n"
   ]
  },
  {
   "cell_type": "markdown",
   "metadata": {},
   "source": [
    "c\n",
    "\n",
    "ii. Từ bảng dữ liệu trên hãy so sánh các đại lượng thống kê giá trị như trung bình, trung vị, độ lệch chuẩn của giá bất động sản của mỗi vùng"
   ]
  },
  {
   "cell_type": "code",
   "execution_count": null,
   "metadata": {},
   "outputs": [],
   "source": []
  },
  {
   "cell_type": "markdown",
   "metadata": {},
   "source": [
    "Nhận xét: \n",
    "\n"
   ]
  },
  {
   "cell_type": "markdown",
   "metadata": {},
   "source": [
    "d.\n",
    "\n",
    "i.Tạo bảng dữ liệu có diện tích (acreage khác -1) và cho biết số dòng trong bảng dữ liệu mới"
   ]
  },
  {
   "cell_type": "code",
   "execution_count": null,
   "metadata": {},
   "outputs": [],
   "source": []
  },
  {
   "cell_type": "markdown",
   "metadata": {},
   "source": [
    "d.\n",
    "\n",
    "ii. Vẽ biểu đồ thể hiện số lượng bất động sản có diện tích trong mô tả (acreage khác -1) của mỗi loại phương thức rao bán (poster_temp)"
   ]
  },
  {
   "cell_type": "code",
   "execution_count": null,
   "metadata": {},
   "outputs": [],
   "source": []
  },
  {
   "cell_type": "markdown",
   "metadata": {},
   "source": [
    "Nhận xét:\n",
    "\n"
   ]
  },
  {
   "cell_type": "markdown",
   "metadata": {},
   "source": [
    "3. \n",
    "\n",
    "a. Chuyển dữ liệu time thành datatime, vẽ biểu đồ thể hiện số lượng bất động sản được bán theo từng tháng trong năm 2020"
   ]
  },
  {
   "cell_type": "code",
   "execution_count": null,
   "metadata": {},
   "outputs": [],
   "source": []
  },
  {
   "cell_type": "markdown",
   "metadata": {},
   "source": [
    "Nhận xét: "
   ]
  },
  {
   "cell_type": "markdown",
   "metadata": {},
   "source": [
    "3.\n",
    "\n",
    "b. Vẽ mối tương quan giữa giá bất động sản và diện tích của bất động sản đối với mô hình 'nhà' (có acreage <800 và acreage > -1) tại tp hồ chí minh"
   ]
  },
  {
   "cell_type": "code",
   "execution_count": null,
   "metadata": {},
   "outputs": [],
   "source": []
  },
  {
   "cell_type": "markdown",
   "metadata": {},
   "source": [
    "Nhận xét: "
   ]
  },
  {
   "cell_type": "markdown",
   "metadata": {},
   "source": [
    "4. Chọn loại biểu đồ phù hợp để khảo sát mối quan hệ giữa giá trung bình của bất động sản loại 'nhà' và giá bất động sản loại 'đất' theo từng tháng"
   ]
  },
  {
   "cell_type": "code",
   "execution_count": 234,
   "metadata": {},
   "outputs": [
    {
     "data": {
      "image/png": "[encoded data removed]",
      "text/plain": [
       "<Figure size 1000x600 with 1 Axes>"
      ]
     },
     "metadata": {},
     "output_type": "display_data"
    }
   ],
   "source": []
  },
  {
   "cell_type": "markdown",
   "metadata": {},
   "source": [
    "Nhận xét:\n",
    "\n"
   ]
  }
 ],
 "metadata": {
  "kernelspec": {
   "display_name": "Python 3",
   "language": "python",
   "name": "python3"
  },
  "language_info": {
   "codemirror_mode": {
    "name": "ipython",
    "version": 3
   },
   "file_extension": ".py",
   "mimetype": "text/x-python",
   "name": "python",
   "nbconvert_exporter": "python",
   "pygments_lexer": "ipython3",
   "version": "3.10.8"
  },
  "orig_nbformat": 4
 },
 "nbformat": 4,
 "nbformat_minor": 2
}
