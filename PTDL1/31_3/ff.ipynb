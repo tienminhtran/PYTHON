{
 "cells": [
  {
   "cell_type": "code",
   "execution_count": 1,
   "metadata": {},
   "outputs": [],
   "source": [
    "# Imports\n",
    "\n",
    "import pandas as pd\n",
    "\n",
    "import matplotlib.pyplot as plt \n",
    "import pingouin\n",
    "from scipy.stats import mannwhitneyu"
   ]
  },
  {
   "cell_type": "code",
   "execution_count": 8,
   "metadata": {},
   "outputs": [
    {
     "ename": "SyntaxError",
     "evalue": "invalid syntax. Perhaps you forgot a comma? (3504392841.py, line 9)",
     "output_type": "error",
     "traceback": [
      "\u001b[1;36m  Cell \u001b[1;32mIn[8], line 9\u001b[1;36m\u001b[0m\n\u001b[1;33m    men_subset = men[(men[\"date\"] > \"2002-01-01\") C (men[\"tournament\"].isin([\"FIFA World Cup\"]))] women[\"date\"] = pd.to_datetime(women[\"date\"])\u001b[0m\n\u001b[1;37m                      ^\u001b[0m\n\u001b[1;31mSyntaxError\u001b[0m\u001b[1;31m:\u001b[0m invalid syntax. Perhaps you forgot a comma?\n"
     ]
    }
   ],
   "source": [
    "\n",
    "\n",
    "\n",
    "\n",
    "# Load men's and women's datasets \n",
    "men = pd.read_csv(\"men_results.csv\")\n",
    "women = pd.read_csv(\"women_results.csv\")\n",
    "\n",
    "\n",
    "\n",
    "# Filter the data for the time range and tournament \n",
    "men[\"date\"] = pd.to_datetime(men[\"date\"])\n",
    "men_subset = men[(men[\"date\"] > \"2002-01-01\") C (men[\"tournament\"].isin([\"FIFA World Cup\"]))] women[\"date\"] = pd.to_datetime(women[\"date\"])\n",
    "women_subset = women[(women[\"date\"] > \"2002-01-01\") C (women[\"tournament\"].isin([\"FIFA World Cup\"]))]\n",
    "\n",
    "\n",
    "# Create group and goals_scored columns \n",
    "men_subset[\"group\"] = \"men\"\n",
    "women_subset[\"group\"] = \"women\"\n",
    "\n",
    "men_subset[\"goals_scored\"] = men_subset[\"home_score\"] + men_subset[\"away_score\"]\n",
    "\n",
    "women_subset[\"goals_scored\"] = women_subset[\"home_score\"] + women_subset[\"away_score\"]\n",
    " \n",
    "# Determine normality using histograms \n",
    "men_subset[\"goals_scored\"].hist() \n",
    "plt.show()\n",
    "plt.clf()\n",
    "\n",
    "\n",
    "\n",
    "# Goals scored is not normally distributed, so use Wilcoxon-Mann-Whitney test of two groups \n",
    "men_subset[\"goals_scored\"].hist()\n",
    "plt.show() \n",
    "plt.clf()\n",
    "\n",
    "\n",
    "# Combine women's and men's data and calculate goals scored in each match \n",
    "both = pd.concat([women_subset, men_subset], axis=0, ignore_index=True)\n",
    "\n",
    "\n",
    "# Transform the data for the pingouin Mann-Whitney U t-test/Wilcoxon-Mann-Whitney test \n",
    "both_subset = both[[\"goals_scored\", \"group\"]]\n",
    "both_subset_wide = both_subset.pivot(columns=\"group\", values=\"goals_scored\")\n",
    "\n",
    "\n",
    "\n",
    "# Perform right-tailed Wilcoxon-Mann-Whitney test with pingouin \n",
    "results_pg = pingouin.mwu(x=both_subset_wide[\"women\"],\n",
    "y=both_subset_wide[\"men\"], alternative=\"greater\")\n",
    "\n",
    "\n",
    "# Alternative SciPy solution: Perform right-tailed Wilcoxon-Mann-Whitney test with scipy\n",
    " \n",
    "results_scipy = mannwhitneyu(x=women_subset[\"goals_scored\"], y=men_subset[\"goals_scored\"], alternative=\"greater\")\n",
    "\n",
    "\n",
    "# Extract p-value as a float\n",
    "\n",
    "p_val = results_pg[\"p-val\"].values[0]\n",
    "\n",
    "\n",
    "\n",
    "# Determine hypothesis test result using sig. level \n",
    "if p_val <= 0.01:\n",
    "    result = \"reject\" \n",
    "else:\n",
    "    result = \"fail to reject\"\n",
    "\n",
    "\n",
    "\n",
    "result_dict = {\"p_val\": p_val, \"result\": result}\n"
   ]
  }
 ],
 "metadata": {
  "kernelspec": {
   "display_name": "Python 3",
   "language": "python",
   "name": "python3"
  },
  "language_info": {
   "codemirror_mode": {
    "name": "ipython",
    "version": 3
   },
   "file_extension": ".py",
   "mimetype": "text/x-python",
   "name": "python",
   "nbconvert_exporter": "python",
   "pygments_lexer": "ipython3",
   "version": "3.10.8"
  }
 },
 "nbformat": 4,
 "nbformat_minor": 2
}
