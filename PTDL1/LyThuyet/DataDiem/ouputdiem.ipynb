{
 "cells": [
  {
   "cell_type": "code",
   "execution_count": 1,
   "metadata": {},
   "outputs": [],
   "source": [
    "import pandas as pd"
   ]
  },
  {
   "cell_type": "code",
   "execution_count": 69,
   "metadata": {},
   "outputs": [
    {
     "ename": "TypeError",
     "evalue": "Cannot use .str.cat with values of inferred dtype 'mixed-integer'.",
     "output_type": "error",
     "traceback": [
      "\u001b[1;31m---------------------------------------------------------------------------\u001b[0m",
      "\u001b[1;31mTypeError\u001b[0m                                 Traceback (most recent call last)",
      "Cell \u001b[1;32mIn[69], line 11\u001b[0m\n\u001b[0;32m      8\u001b[0m df_diem1\u001b[38;5;241m.\u001b[39mrename(columns\u001b[38;5;241m=\u001b[39m{\u001b[38;5;124m'\u001b[39m\u001b[38;5;124mMã sinh viên\u001b[39m\u001b[38;5;124m'\u001b[39m: \u001b[38;5;124m'\u001b[39m\u001b[38;5;124mMSSV\u001b[39m\u001b[38;5;124m'\u001b[39m}, inplace\u001b[38;5;241m=\u001b[39m\u001b[38;5;28;01mTrue\u001b[39;00m)\n\u001b[0;32m     10\u001b[0m \u001b[38;5;66;03m# Concatenate 'Họ đệm' and 'Tên' columns into a new column 'Họ đệm' in df_diem1\u001b[39;00m\n\u001b[1;32m---> 11\u001b[0m df_diem1[\u001b[38;5;124m'\u001b[39m\u001b[38;5;124mHọ đệm\u001b[39m\u001b[38;5;124m'\u001b[39m] \u001b[38;5;241m=\u001b[39m \u001b[43mdf_diem1\u001b[49m\u001b[43m[\u001b[49m\u001b[38;5;124;43m'\u001b[39;49m\u001b[38;5;124;43mHọ đệm\u001b[39;49m\u001b[38;5;124;43m'\u001b[39;49m\u001b[43m]\u001b[49m\u001b[38;5;241;43m.\u001b[39;49m\u001b[43mstr\u001b[49m\u001b[38;5;241;43m.\u001b[39;49m\u001b[43mcat\u001b[49m\u001b[43m(\u001b[49m\u001b[43mdf_diem1\u001b[49m\u001b[43m[\u001b[49m\u001b[38;5;124;43m'\u001b[39;49m\u001b[38;5;124;43mTên\u001b[39;49m\u001b[38;5;124;43m'\u001b[39;49m\u001b[43m]\u001b[49m\u001b[43m,\u001b[49m\u001b[43m \u001b[49m\u001b[43msep\u001b[49m\u001b[38;5;241;43m=\u001b[39;49m\u001b[38;5;124;43m'\u001b[39;49m\u001b[38;5;124;43m \u001b[39;49m\u001b[38;5;124;43m'\u001b[39;49m\u001b[43m)\u001b[49m\n\u001b[0;32m     13\u001b[0m \u001b[38;5;28mprint\u001b[39m(df_diem1)\n\u001b[0;32m     14\u001b[0m \u001b[38;5;28mprint\u001b[39m(df_diem2)\n",
      "File \u001b[1;32md:\\CAI_DAT_PYTHON\\Python310\\lib\\site-packages\\pandas\\core\\strings\\accessor.py:135\u001b[0m, in \u001b[0;36mforbid_nonstring_types.<locals>._forbid_nonstring_types.<locals>.wrapper\u001b[1;34m(self, *args, **kwargs)\u001b[0m\n\u001b[0;32m    130\u001b[0m \u001b[38;5;28;01mif\u001b[39;00m \u001b[38;5;28mself\u001b[39m\u001b[38;5;241m.\u001b[39m_inferred_dtype \u001b[38;5;129;01mnot\u001b[39;00m \u001b[38;5;129;01min\u001b[39;00m allowed_types:\n\u001b[0;32m    131\u001b[0m     msg \u001b[38;5;241m=\u001b[39m (\n\u001b[0;32m    132\u001b[0m         \u001b[38;5;124mf\u001b[39m\u001b[38;5;124m\"\u001b[39m\u001b[38;5;124mCannot use .str.\u001b[39m\u001b[38;5;132;01m{\u001b[39;00mfunc_name\u001b[38;5;132;01m}\u001b[39;00m\u001b[38;5;124m with values of \u001b[39m\u001b[38;5;124m\"\u001b[39m\n\u001b[0;32m    133\u001b[0m         \u001b[38;5;124mf\u001b[39m\u001b[38;5;124m\"\u001b[39m\u001b[38;5;124minferred dtype \u001b[39m\u001b[38;5;124m'\u001b[39m\u001b[38;5;132;01m{\u001b[39;00m\u001b[38;5;28mself\u001b[39m\u001b[38;5;241m.\u001b[39m_inferred_dtype\u001b[38;5;132;01m}\u001b[39;00m\u001b[38;5;124m'\u001b[39m\u001b[38;5;124m.\u001b[39m\u001b[38;5;124m\"\u001b[39m\n\u001b[0;32m    134\u001b[0m     )\n\u001b[1;32m--> 135\u001b[0m     \u001b[38;5;28;01mraise\u001b[39;00m \u001b[38;5;167;01mTypeError\u001b[39;00m(msg)\n\u001b[0;32m    136\u001b[0m \u001b[38;5;28;01mreturn\u001b[39;00m func(\u001b[38;5;28mself\u001b[39m, \u001b[38;5;241m*\u001b[39margs, \u001b[38;5;241m*\u001b[39m\u001b[38;5;241m*\u001b[39mkwargs)\n",
      "\u001b[1;31mTypeError\u001b[0m: Cannot use .str.cat with values of inferred dtype 'mixed-integer'."
     ]
    }
   ],
   "source": [
    "import pandas as pd\n",
    "\n",
    "# Read data from the three files\n",
    "df_diem1 = pd.read_excel(r'./diem_1.xls')\n",
    "df_diem2 = pd.read_excel(r'./diem_2.xls')\n",
    "\n",
    "# Rename the column 'Mã sinh viên' to 'MSSV' in df_diem1\n",
    "df_diem1.rename(columns={'Mã sinh viên': 'MSSV'}, inplace=True)\n",
    "\n",
    "# Concatenate 'Họ đệm' and 'Tên' columns into a new column 'Họ đệm' in df_diem1\n",
    "df_diem1['Họ đệm'] = df_diem1['Họ đệm'].str.cat(df_diem1['Tên'], sep=' ')\n",
    "\n",
    "print(df_diem1)\n",
    "print(df_diem2)\n"
   ]
  },
  {
   "cell_type": "code",
   "execution_count": 152,
   "metadata": {},
   "outputs": [
    {
     "name": "stdout",
     "output_type": "stream",
     "text": [
      "        MSSV            Họ đệm     Tên  Điểm_x               HỌ TÊN  Điểm_y\n",
      "0   21111971  Nguyễn Thị Thanh      An     9.5  Nguyễn Thị Thanh An       6\n",
      "1   22000615        Nguyễn Tấn     Anh     9.5      Nguyễn Tấn Anh        7\n",
      "2   21079231         Trần Quốc     Anh     9.5        Trần Quốc Anh       7\n",
      "3   20123891          Trần Gia     Bảo     7.0         Trần Gia Bảo       8\n",
      "4   22001525    Bùi Nguyễn Mai     Bon     7.0   Bùi Nguyễn Mai Bon       7\n",
      "..       ...               ...     ...     ...                  ...     ...\n",
      "65  21003871      Mã Đức Thanh  Trường     8.0  Mã Đức Thanh Trường       7\n",
      "66  20007571        Trần Hoàng    Tuấn     8.0      Trần Hoàng Tuấn       7\n",
      "67  21129041            Đỗ Chí   Tường     8.0         ĐỖ Chí Tường       7\n",
      "68  21015151         Trần Hiển    Vinh     8.0       Trần Hiển Vinh       8\n",
      "69  20071341       Nguyễn Minh       Ý     8.0        Nguyễn Minh Ý       8\n",
      "\n",
      "[70 rows x 6 columns]\n",
      "    Mã sinh viên            Họ đệm     Tên  Điểm_1  Điểm_2  \\\n",
      "0       21111971  Nguyễn Thị Thanh      An     9.5       6   \n",
      "1       22000615        Nguyễn Tấn     Anh     9.5       7   \n",
      "2       21079231         Trần Quốc     Anh     9.5       7   \n",
      "3       20123891          Trần Gia     Bảo     7.0       8   \n",
      "4       22001525    Bùi Nguyễn Mai     Bon     7.0       7   \n",
      "..           ...               ...     ...     ...     ...   \n",
      "65      21003871      Mã Đức Thanh  Trường     8.0       7   \n",
      "66      20007571        Trần Hoàng    Tuấn     8.0       7   \n",
      "67      21129041            Đỗ Chí   Tường     8.0       7   \n",
      "68      21015151         Trần Hiển    Vinh     8.0       8   \n",
      "69      20071341       Nguyễn Minh       Ý     8.0       8   \n",
      "\n",
      "    Điểm_final (=(Diem_1+Diem_2)/2)  \n",
      "0                              7.75  \n",
      "1                              8.25  \n",
      "2                              8.25  \n",
      "3                              7.50  \n",
      "4                              7.00  \n",
      "..                              ...  \n",
      "65                             7.50  \n",
      "66                             7.50  \n",
      "67                             7.50  \n",
      "68                             8.00  \n",
      "69                             8.00  \n",
      "\n",
      "[70 rows x 6 columns]\n"
     ]
    }
   ],
   "source": [
    "import pandas as pd\n",
    "\n",
    "# Đọc dữ liệu từ hai tệp\n",
    "df_diem1 = pd.read_excel('diem_1.xls')\n",
    "df_diem2 = pd.read_excel('diem_2.xls')\n",
    "\n",
    "# Đổi tên cột 'Mã sinh viên' thành 'MSSV' trong df_diem1\n",
    "df_diem1.rename(columns={'Mã sinh viên': 'MSSV'}, inplace=True)\n",
    "\n",
    "# Kiểm tra giá trị không phải là số nguyên trong cột \"MSSV\" và loại bỏ dòng đó\n",
    "df_diem1 = df_diem1[df_diem1['MSSV'].astype(str).str.isdigit()]\n",
    "df_diem1['MSSV'] = df_diem1['MSSV'].astype('Int64')  # Sử dụng 'Int64' để hỗ trợ giá trị null\n",
    "\n",
    "# Sàng lọc dòng có giá trị NaN trong df_diem1\n",
    "df_diem1_filtered = df_diem1.dropna()\n",
    "df_diem2_filtered = df_diem2.dropna()\n",
    "\n",
    "# In DataFrame sau khi đã sàng lọc\n",
    "# print(df_diem1_filtered)\n",
    "# print(df_diem2)\n",
    "# Gộp hai DataFrame lại với nhau dựa trên cột 'MSSV'\n",
    "df_merged = pd.merge(df_diem1_filtered, df_diem2_filtered, on='MSSV', how='inner')\n",
    "\n",
    "# In DataFrame sau khi đã gộp\n",
    "print(df_merged)\n",
    "# Tính trung bình cộng của hai cột \"Điểm_x\" và \"Điểm_y\"\n",
    "df_merged['Điểm_final'] = (df_merged['Điểm_x'] + df_merged['Điểm_y']) / 2\n",
    "df_merged.drop(columns=['HỌ TÊN'], inplace=True)\n",
    "\n",
    "# In DataFrame sau khi tính toán\n",
    "        #  print(df_merged[['MSSV', 'Họ đệm', 'Tên', 'Điểm_x', 'Điểm_y', 'Điểm_final']])\n",
    "# Đổi tên cột \n",
    "df_merged.rename(columns={'MSSV': 'Mã sinh viên'}, inplace=True)\n",
    "df_merged.rename(columns={'Điểm_x': 'Điểm_1'}, inplace=True)\n",
    "df_merged.rename(columns={'Điểm_y': 'Điểm_2'}, inplace=True)\n",
    "df_merged.rename(columns={'Điểm_final': 'Điểm_final (=(Diem_1+Diem_2)/2)'}, inplace=True)\n",
    "\n",
    "print(df_merged[['Mã sinh viên', 'Họ đệm', 'Tên', 'Điểm_1', 'Điểm_2', 'Điểm_final (=(Diem_1+Diem_2)/2)']])\n",
    "# Xuất DataFrame ra file Excel\n",
    "df_merged.to_excel(r'./diem_final.xlsx', index=False)"
   ]
  }
 ],
 "metadata": {
  "kernelspec": {
   "display_name": "Python 3",
   "language": "python",
   "name": "python3"
  },
  "language_info": {
   "codemirror_mode": {
    "name": "ipython",
    "version": 3
   },
   "file_extension": ".py",
   "mimetype": "text/x-python",
   "name": "python",
   "nbconvert_exporter": "python",
   "pygments_lexer": "ipython3",
   "version": "3.10.8"
  }
 },
 "nbformat": 4,
 "nbformat_minor": 2
}
